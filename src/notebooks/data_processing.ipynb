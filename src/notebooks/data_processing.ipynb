{
 "cells": [
  {
   "cell_type": "code",
   "execution_count": 53,
   "metadata": {},
   "outputs": [],
   "source": [
    "import sys\n",
    "sys.path.insert(0, '../utils')\n",
    "\n",
    "import pandas as pd\n",
    "import text_utils as txt_u\n",
    "from sklearn.model_selection import train_test_split"
   ]
  },
  {
   "cell_type": "code",
   "execution_count": 54,
   "metadata": {},
   "outputs": [],
   "source": [
    "sentiment140 = pd.read_csv('../data/sentiment140.csv')"
   ]
  },
  {
   "cell_type": "code",
   "execution_count": 55,
   "metadata": {},
   "outputs": [
    {
     "data": {
      "text/html": [
       "<div>\n",
       "<style scoped>\n",
       "    .dataframe tbody tr th:only-of-type {\n",
       "        vertical-align: middle;\n",
       "    }\n",
       "\n",
       "    .dataframe tbody tr th {\n",
       "        vertical-align: top;\n",
       "    }\n",
       "\n",
       "    .dataframe thead th {\n",
       "        text-align: right;\n",
       "    }\n",
       "</style>\n",
       "<table border=\"1\" class=\"dataframe\">\n",
       "  <thead>\n",
       "    <tr style=\"text-align: right;\">\n",
       "      <th></th>\n",
       "      <th>id</th>\n",
       "      <th>target</th>\n",
       "      <th>text</th>\n",
       "    </tr>\n",
       "  </thead>\n",
       "  <tbody>\n",
       "    <tr>\n",
       "      <th>0</th>\n",
       "      <td>1467810369</td>\n",
       "      <td>0</td>\n",
       "      <td>@switchfoot http://twitpic.com/2y1zl - Awww, t...</td>\n",
       "    </tr>\n",
       "    <tr>\n",
       "      <th>1</th>\n",
       "      <td>1467810672</td>\n",
       "      <td>0</td>\n",
       "      <td>is upset that he can't update his Facebook by ...</td>\n",
       "    </tr>\n",
       "    <tr>\n",
       "      <th>2</th>\n",
       "      <td>1467810917</td>\n",
       "      <td>0</td>\n",
       "      <td>@Kenichan I dived many times for the ball. Man...</td>\n",
       "    </tr>\n",
       "    <tr>\n",
       "      <th>3</th>\n",
       "      <td>1467811184</td>\n",
       "      <td>0</td>\n",
       "      <td>my whole body feels itchy and like its on fire</td>\n",
       "    </tr>\n",
       "    <tr>\n",
       "      <th>4</th>\n",
       "      <td>1467811193</td>\n",
       "      <td>0</td>\n",
       "      <td>@nationwideclass no, it's not behaving at all....</td>\n",
       "    </tr>\n",
       "  </tbody>\n",
       "</table>\n",
       "</div>"
      ],
      "text/plain": [
       "           id  target                                               text\n",
       "0  1467810369       0  @switchfoot http://twitpic.com/2y1zl - Awww, t...\n",
       "1  1467810672       0  is upset that he can't update his Facebook by ...\n",
       "2  1467810917       0  @Kenichan I dived many times for the ball. Man...\n",
       "3  1467811184       0    my whole body feels itchy and like its on fire \n",
       "4  1467811193       0  @nationwideclass no, it's not behaving at all...."
      ]
     },
     "execution_count": 55,
     "metadata": {},
     "output_type": "execute_result"
    }
   ],
   "source": [
    "sentiment140.head()"
   ]
  },
  {
   "attachments": {},
   "cell_type": "markdown",
   "metadata": {},
   "source": [
    "### Sample"
   ]
  },
  {
   "cell_type": "code",
   "execution_count": 56,
   "metadata": {},
   "outputs": [],
   "source": [
    "sample = sentiment140.sample(n=20000, random_state=10).reset_index(drop=True)"
   ]
  },
  {
   "cell_type": "code",
   "execution_count": 57,
   "metadata": {},
   "outputs": [
    {
     "data": {
      "text/html": [
       "<div>\n",
       "<style scoped>\n",
       "    .dataframe tbody tr th:only-of-type {\n",
       "        vertical-align: middle;\n",
       "    }\n",
       "\n",
       "    .dataframe tbody tr th {\n",
       "        vertical-align: top;\n",
       "    }\n",
       "\n",
       "    .dataframe thead th {\n",
       "        text-align: right;\n",
       "    }\n",
       "</style>\n",
       "<table border=\"1\" class=\"dataframe\">\n",
       "  <thead>\n",
       "    <tr style=\"text-align: right;\">\n",
       "      <th></th>\n",
       "      <th>id</th>\n",
       "      <th>target</th>\n",
       "      <th>text</th>\n",
       "    </tr>\n",
       "  </thead>\n",
       "  <tbody>\n",
       "    <tr>\n",
       "      <th>0</th>\n",
       "      <td>2250819430</td>\n",
       "      <td>0</td>\n",
       "      <td>@MrDAprano, honnestly I'm not going to miss th...</td>\n",
       "    </tr>\n",
       "    <tr>\n",
       "      <th>1</th>\n",
       "      <td>2068515884</td>\n",
       "      <td>0</td>\n",
       "      <td>Tired after spending a restless night with Tie...</td>\n",
       "    </tr>\n",
       "    <tr>\n",
       "      <th>2</th>\n",
       "      <td>1991871464</td>\n",
       "      <td>1</td>\n",
       "      <td>@bradgallaway Yup popiscle  Not sure if you've...</td>\n",
       "    </tr>\n",
       "    <tr>\n",
       "      <th>3</th>\n",
       "      <td>2070090087</td>\n",
       "      <td>1</td>\n",
       "      <td>@candydiaz LOL save a lil arse for me candy!</td>\n",
       "    </tr>\n",
       "    <tr>\n",
       "      <th>4</th>\n",
       "      <td>1795457800</td>\n",
       "      <td>1</td>\n",
       "      <td>@StephanieFizer No problem!! Your stuff is so ...</td>\n",
       "    </tr>\n",
       "  </tbody>\n",
       "</table>\n",
       "</div>"
      ],
      "text/plain": [
       "           id  target                                               text\n",
       "0  2250819430       0  @MrDAprano, honnestly I'm not going to miss th...\n",
       "1  2068515884       0  Tired after spending a restless night with Tie...\n",
       "2  1991871464       1  @bradgallaway Yup popiscle  Not sure if you've...\n",
       "3  2070090087       1      @candydiaz LOL save a lil arse for me candy! \n",
       "4  1795457800       1  @StephanieFizer No problem!! Your stuff is so ..."
      ]
     },
     "execution_count": 57,
     "metadata": {},
     "output_type": "execute_result"
    }
   ],
   "source": [
    "sample.head()"
   ]
  },
  {
   "attachments": {},
   "cell_type": "markdown",
   "metadata": {},
   "source": [
    "### Text processing"
   ]
  },
  {
   "cell_type": "code",
   "execution_count": 58,
   "metadata": {},
   "outputs": [],
   "source": [
    "sample['processed_text'] = sample['text'].apply(txt_u.remove_mentions)"
   ]
  },
  {
   "cell_type": "code",
   "execution_count": 59,
   "metadata": {},
   "outputs": [],
   "source": [
    "sample['processed_text'] = sample['processed_text'].apply(txt_u.remove_urls)"
   ]
  },
  {
   "cell_type": "code",
   "execution_count": 60,
   "metadata": {},
   "outputs": [],
   "source": [
    "# En el caso concreto del dataset utilizado los emojis ya han sido eliminados.\n",
    "# sample['processed_text'] = sample['processed_text'].apply(txt_u.remove_emojis)"
   ]
  },
  {
   "cell_type": "code",
   "execution_count": 61,
   "metadata": {},
   "outputs": [],
   "source": [
    "sample['processed_text'] = sample['processed_text'].apply(txt_u.lemmatization)"
   ]
  },
  {
   "cell_type": "code",
   "execution_count": 62,
   "metadata": {},
   "outputs": [],
   "source": [
    "sample['processed_text'] = sample['processed_text'].apply(txt_u.remove_symbols)"
   ]
  },
  {
   "cell_type": "code",
   "execution_count": 63,
   "metadata": {},
   "outputs": [
    {
     "data": {
      "text/html": [
       "<div>\n",
       "<style scoped>\n",
       "    .dataframe tbody tr th:only-of-type {\n",
       "        vertical-align: middle;\n",
       "    }\n",
       "\n",
       "    .dataframe tbody tr th {\n",
       "        vertical-align: top;\n",
       "    }\n",
       "\n",
       "    .dataframe thead th {\n",
       "        text-align: right;\n",
       "    }\n",
       "</style>\n",
       "<table border=\"1\" class=\"dataframe\">\n",
       "  <thead>\n",
       "    <tr style=\"text-align: right;\">\n",
       "      <th></th>\n",
       "      <th>id</th>\n",
       "      <th>target</th>\n",
       "      <th>text</th>\n",
       "      <th>processed_text</th>\n",
       "    </tr>\n",
       "  </thead>\n",
       "  <tbody>\n",
       "    <tr>\n",
       "      <th>0</th>\n",
       "      <td>2250819430</td>\n",
       "      <td>0</td>\n",
       "      <td>@MrDAprano, honnestly I'm not going to miss th...</td>\n",
       "      <td>honnestly go miss janitor seriously lose trac...</td>\n",
       "    </tr>\n",
       "    <tr>\n",
       "      <th>1</th>\n",
       "      <td>2068515884</td>\n",
       "      <td>0</td>\n",
       "      <td>Tired after spending a restless night with Tie...</td>\n",
       "      <td>tired spend restless night tiernan    doctor t...</td>\n",
       "    </tr>\n",
       "    <tr>\n",
       "      <th>2</th>\n",
       "      <td>1991871464</td>\n",
       "      <td>1</td>\n",
       "      <td>@bradgallaway Yup popiscle  Not sure if you've...</td>\n",
       "      <td>yup popiscle   sure get strawberry split  st...</td>\n",
       "    </tr>\n",
       "    <tr>\n",
       "      <th>3</th>\n",
       "      <td>2070090087</td>\n",
       "      <td>1</td>\n",
       "      <td>@candydiaz LOL save a lil arse for me candy!</td>\n",
       "      <td>lol save lil arse candy</td>\n",
       "    </tr>\n",
       "    <tr>\n",
       "      <th>4</th>\n",
       "      <td>1795457800</td>\n",
       "      <td>1</td>\n",
       "      <td>@StephanieFizer No problem!! Your stuff is so ...</td>\n",
       "      <td>problem   stuff cute  wait mini card make</td>\n",
       "    </tr>\n",
       "  </tbody>\n",
       "</table>\n",
       "</div>"
      ],
      "text/plain": [
       "           id  target                                               text  \\\n",
       "0  2250819430       0  @MrDAprano, honnestly I'm not going to miss th...   \n",
       "1  2068515884       0  Tired after spending a restless night with Tie...   \n",
       "2  1991871464       1  @bradgallaway Yup popiscle  Not sure if you've...   \n",
       "3  2070090087       1      @candydiaz LOL save a lil arse for me candy!    \n",
       "4  1795457800       1  @StephanieFizer No problem!! Your stuff is so ...   \n",
       "\n",
       "                                      processed_text  \n",
       "0   honnestly go miss janitor seriously lose trac...  \n",
       "1  tired spend restless night tiernan    doctor t...  \n",
       "2    yup popiscle   sure get strawberry split  st...  \n",
       "3                           lol save lil arse candy   \n",
       "4          problem   stuff cute  wait mini card make  "
      ]
     },
     "execution_count": 63,
     "metadata": {},
     "output_type": "execute_result"
    }
   ],
   "source": [
    "sample.head()"
   ]
  },
  {
   "attachments": {},
   "cell_type": "markdown",
   "metadata": {},
   "source": [
    "#### Train/Test split"
   ]
  },
  {
   "cell_type": "code",
   "execution_count": 64,
   "metadata": {},
   "outputs": [],
   "source": [
    "train, test = train_test_split(sample, test_size=.2, random_state=10)"
   ]
  },
  {
   "attachments": {},
   "cell_type": "markdown",
   "metadata": {},
   "source": [
    "#### Vectorization"
   ]
  },
  {
   "cell_type": "code",
   "execution_count": 65,
   "metadata": {},
   "outputs": [],
   "source": [
    "tokenizer = txt_u.train_tokenizer(sample['processed_text'].values)"
   ]
  },
  {
   "cell_type": "code",
   "execution_count": 66,
   "metadata": {},
   "outputs": [],
   "source": [
    "train_vec = txt_u.vectorization(tokenizer, train['processed_text'].values)\n",
    "test_vec = txt_u.vectorization(tokenizer, test['processed_text'].values)"
   ]
  },
  {
   "cell_type": "code",
   "execution_count": 67,
   "metadata": {},
   "outputs": [],
   "source": [
    "vector_length = max(train_vec.shape[1], test_vec.shape[1])\n",
    "\n",
    "train_vec = txt_u.zero_pad(train_vec, vector_length)\n",
    "test_vec = txt_u.zero_pad(test_vec, vector_length)"
   ]
  },
  {
   "cell_type": "code",
   "execution_count": 68,
   "metadata": {},
   "outputs": [
    {
     "name": "stdout",
     "output_type": "stream",
     "text": [
      "(16000, 20)\n",
      "(4000, 20)\n"
     ]
    }
   ],
   "source": [
    "print(train_vec.shape)\n",
    "print(test_vec.shape)"
   ]
  },
  {
   "cell_type": "code",
   "execution_count": 69,
   "metadata": {},
   "outputs": [],
   "source": [
    "train['feat_vector'] = train_vec.tolist()\n",
    "test['feat_vector'] = test_vec.tolist()"
   ]
  },
  {
   "cell_type": "code",
   "execution_count": 70,
   "metadata": {},
   "outputs": [],
   "source": [
    "train.to_csv('../data/train.csv', index=False)\n",
    "test.to_csv('../data/test.csv', index=False)"
   ]
  }
 ],
 "metadata": {
  "kernelspec": {
   "display_name": "Python 3",
   "language": "python",
   "name": "python3"
  },
  "language_info": {
   "codemirror_mode": {
    "name": "ipython",
    "version": 3
   },
   "file_extension": ".py",
   "mimetype": "text/x-python",
   "name": "python",
   "nbconvert_exporter": "python",
   "pygments_lexer": "ipython3",
   "version": "3.7.4"
  },
  "orig_nbformat": 4,
  "vscode": {
   "interpreter": {
    "hash": "6379f5935baa16e313082a65cbe5ec73ab788ea4189864d758b188735c2394f8"
   }
  }
 },
 "nbformat": 4,
 "nbformat_minor": 2
}
